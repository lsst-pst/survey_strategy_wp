{
 "cells": [
  {
   "cell_type": "code",
   "execution_count": null,
   "metadata": {},
   "outputs": [],
   "source": [
    "import pandas as pd\n",
    "import numpy as np\n",
    "import matplotlib.pyplot as plt\n",
    "%matplotlib inline"
   ]
  },
  {
   "cell_type": "markdown",
   "metadata": {},
   "source": [
    "In this notebook, we can estimate: how many visits could we have for every field, if we evenly split a typical total number of visits over a very large sky footprint? \n",
    "\n",
    "So first: estimate the total number of visits available. "
   ]
  },
  {
   "cell_type": "code",
   "execution_count": null,
   "metadata": {},
   "outputs": [],
   "source": [
    "# Total approximate number of visits in opsim:\n",
    "totalNvis = 2400000\n",
    "# Let's say we can play with 93% of these visits\n",
    "totalNvis *= 0.93\n",
    "print(\"The number of visits available is %d (%.2fM)\" % (totalNvis, totalNvis/1000000))"
   ]
  },
  {
   "cell_type": "markdown",
   "metadata": {},
   "source": [
    "Now we'll count the number of fields we want to include in this 'big sky' footprint, using the opsim tessellation. This is equivalent to estimating the number of pointings required to cover the footprint."
   ]
  },
  {
   "cell_type": "code",
   "execution_count": null,
   "metadata": {},
   "outputs": [],
   "source": [
    "# Read the field list.\n",
    "fields = pd.read_csv('field_list.csv')\n",
    "# what does the field list look like?\n",
    "fields[0:5]"
   ]
  },
  {
   "cell_type": "code",
   "execution_count": null,
   "metadata": {},
   "outputs": [],
   "source": [
    "# Select fields with declination between -90 and 32 -- our \"big sky\" footprint\n",
    "bigsky = fields.query('(dec >= -90) and (dec <= 32)') "
   ]
  },
  {
   "cell_type": "code",
   "execution_count": null,
   "metadata": {},
   "outputs": [],
   "source": [
    "# Plot the fields so we can check what this footprint looks like.\n",
    "def radec2project(ra, dec):\n",
    "    return (np.radians(ra) - np.pi, np.radians(dec))\n",
    "\n",
    "fig = plt.figure(figsize=(8, 8))\n",
    "ax = plt.subplot(111, projection=\"aitoff\")\n",
    "x, y = radec2project(bigsky.ra, bigsky.dec)\n",
    "ax.scatter(x, y, alpha=0.5)\n",
    "plt.grid(True)"
   ]
  },
  {
   "cell_type": "code",
   "execution_count": null,
   "metadata": {},
   "outputs": [],
   "source": [
    "# How many fields are included in this \"big sky\" version of the survey?\n",
    "nfields = len(bigsky)\n",
    "print(\"The number of fields in the footprint is %d\" % (nfields))"
   ]
  },
  {
   "cell_type": "markdown",
   "metadata": {},
   "source": [
    "So how many visits could we potentially have per field, if we split them evenly among fields?"
   ]
  },
  {
   "cell_type": "code",
   "execution_count": null,
   "metadata": {},
   "outputs": [],
   "source": [
    "# Exact number of visits per field\n",
    "visPerField = totalNvis / nfields\n",
    "# Round the number of visits per field to an integer\n",
    "visPerField = int(round(visPerField))\n",
    "# And recalculate what this means for the totalNvis -- if the total # changed too much, maybe round down\n",
    "propTotal = visPerField * nfields\n",
    "print(\"This corresponds to %d visits per field\" % (visPerField, ))\n",
    "print(\"This implies a total number of visits required of %d (compared to original estimate of %d): %.2f%s change\"\n",
    "     % (propTotal, totalNvis, float(propTotal - totalNvis) / totalNvis * 100.0, \"%\"))"
   ]
  },
  {
   "cell_type": "markdown",
   "metadata": {},
   "source": [
    "Let's add some estimate on the coadded depths you could achieve.\n",
    "\n",
    "This requires assuming a dark sky, zenith, typical single visit depth and then scaling by the number of visits in each filter. "
   ]
  },
  {
   "cell_type": "code",
   "execution_count": null,
   "metadata": {},
   "outputs": [],
   "source": [
    "# Current expected performance\n",
    "single_m5 = {'u': 23.98, 'g': 24.91, 'r': 24.42, 'i': 23.97, 'z': 23.38, 'y': 22.47}"
   ]
  },
  {
   "cell_type": "code",
   "execution_count": null,
   "metadata": {},
   "outputs": [],
   "source": [
    "# How should we divide the visits? (per field) \n",
    "fractionsPerFilter = {'u': 0.12, 'g': 0.17, 'r': 0.23, 'i': 0.23, 'z': 0.25, 'z': 0.25}\n",
    "fracSum = 0\n",
    "for f, v in fractionsPerFilter.items():\n",
    "    fracSum += v\n",
    "    print('Fraction in %s: %.3f' % (f, v))\n",
    "print(\"Total: %.3f\" % (fracSum))"
   ]
  },
  {
   "cell_type": "code",
   "execution_count": null,
   "metadata": {},
   "outputs": [],
   "source": [
    "# Make actual numbers per filter .. jiggle as necessary. (note that you could set these by hand instead)\n",
    "visPerFilter = {}\n",
    "fieldTotal = 0\n",
    "for f in fractionsPerFilter:\n",
    "    visPerFilter[f] = int(round(fractionsPerFilter[f] * visPerField))\n",
    "    fieldTotal += visPerFilter[f]\n",
    "    print('Visits in %s: %d' % (f, visPerFilter[f]))\n",
    "print('Total per field: %d (compared to potential %d per field previously calculated)' %(fieldTotal, visPerField))"
   ]
  },
  {
   "cell_type": "code",
   "execution_count": null,
   "metadata": {},
   "outputs": [],
   "source": [
    "# Jiggle by hand .. \n",
    "visPerFilter['g'] += 1\n",
    "fieldTotal = 0\n",
    "for f in visPerFilter:\n",
    "    fieldTotal += visPerFilter[f]\n",
    "    print('Visits in %s: %d' % (f, visPerFilter[f]))\n",
    "print('Total per field: %d (compared to potential %d per field previously calculated)' %(fieldTotal, visPerField))"
   ]
  },
  {
   "cell_type": "markdown",
   "metadata": {},
   "source": [
    "So calculate the scaled coadded depth per filter, per field. Note that this assumes all observations are taken under the same \"dark-sky, zenith\" conditions."
   ]
  },
  {
   "cell_type": "code",
   "execution_count": null,
   "metadata": {},
   "outputs": [],
   "source": [
    "coadd_m5 = {}\n",
    "for f in visPerFilter:\n",
    "    coadd_m5[f] = single_m5[f] + 2.5 * np.log10(np.sqrt(visPerFilter[f]))\n",
    "    print(\"Coadded depth in %s: %.2f\" % (f, coadd_m5[f]))"
   ]
  },
  {
   "attachments": {},
   "cell_type": "markdown",
   "metadata": {},
   "source": [
    "Given \"realistic\" opsim conditions, we would expect some typical offsets from these dark-sky, zenith coadded depths. \n",
    "Using the WFD region from kraken\\_2026 we can calculate these expected offsets:"
   ]
  },
  {
   "cell_type": "code",
   "execution_count": null,
   "metadata": {},
   "outputs": [],
   "source": [
    "# Using estimates from kraken_2026:\n",
    "kraken_single_m5 = {'u': 23.78, 'g': 24.81, 'r': 24.35, 'i': 23.92, 'z': 23.34, 'y': 22.45}\n",
    "visPerFilter = {'u': 64, 'g': 90, 'r': 206, 'i': 204, 'z': 186, 'y': 188}\n",
    "opsimCoaddM5 = {'u': 25.65, 'g': 27.15, 'r': 27.20, 'i': 26.62, 'z': 25.72, 'y': 24.91}\n",
    "kraken_coadd_m5 = {}\n",
    "offset = {}\n",
    "for f in visPerFilter:\n",
    "    kraken_coadd_m5[f] = kraken_single_m5[f] + 2.5 * np.log10(np.sqrt(visPerFilter[f]))\n",
    "    offset[f] = kraken_coadd_m5[f] - opsimCoaddM5[f]\n",
    "    print(\"Coadded depth in %s: %.2f - correction is %.2f\" % (f, kraken_coadd_m5[f], offset[f]))"
   ]
  },
  {
   "cell_type": "code",
   "execution_count": null,
   "metadata": {},
   "outputs": [],
   "source": [
    "saved_offsets = {'u': 0.39, 'g': 0.10, 'r': 0.04, 'i': 0.19, 'z': 0.46, 'y': 0.38}"
   ]
  },
  {
   "cell_type": "code",
   "execution_count": null,
   "metadata": {},
   "outputs": [],
   "source": []
  }
 ],
 "metadata": {
  "kernelspec": {
   "display_name": "Python 3",
   "language": "python",
   "name": "python3"
  },
  "language_info": {
   "codemirror_mode": {
    "name": "ipython",
    "version": 3
   },
   "file_extension": ".py",
   "mimetype": "text/x-python",
   "name": "python",
   "nbconvert_exporter": "python",
   "pygments_lexer": "ipython3",
   "version": "3.6.2"
  }
 },
 "nbformat": 4,
 "nbformat_minor": 2
}
