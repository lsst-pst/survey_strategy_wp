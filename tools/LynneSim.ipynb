{
 "cells": [
  {
   "cell_type": "markdown",
   "metadata": {},
   "source": [
    "# `LynneSim`: A Simple Tool to Investigate Trading LSST Survey Area and Depth\n",
    "\n",
    "<br>Owner(s): **Phil Marshall** ([@drphilmarshall](https://github.com/LSSTScienceCollaborations/survey_strategy_wp/issues/new?body=@drphilamrshall))\n",
    "<br>Last Verified to Run: **2018-09-19**\n",
    "\n",
    "Teams writing white papers may well need to make rough estimates of the cost of various high level decisions that could be taken about the LSST observing strategy, such as how deep to go in various sky regions. `LynneSim` is a simple tool to enable such calculations.\n",
    "\n",
    "> The \"owner\" of a notebook is the person you can contact, e.g. by GitHub issue, if the notebook doesn't run. \n",
    "\n",
    "### Learning Objectives:\n",
    "\n",
    "After working through this tutorial you should be able to use `LynneSim` to emulate (very approximately) an OpSim run followed by a (very basic) MAF analysis.\n",
    "\n",
    "### Logistics\n",
    "This notebook is intended to be runnable anywhere, with only standard dependencies.\n",
    "\n",
    "## Set-up"
   ]
  },
  {
   "cell_type": "code",
   "execution_count": null,
   "metadata": {},
   "outputs": [],
   "source": [
    "import pandas as pd\n",
    "import numpy as np\n",
    "import matplotlib\n",
    "import matplotlib.pyplot as plt\n",
    "%matplotlib inline\n",
    "\n",
    "%load_ext autoreload\n",
    "%autoreload 2"
   ]
  },
  {
   "cell_type": "markdown",
   "metadata": {},
   "source": [
    "## Getting Started\n",
    "\n",
    "Suppose we want to know how many visits per field, and hence the 5-sigma depth, we could get, if we put the standard number of visits in the usual WFD region, and then split the remainder over the rest of our \"big sky\" (-90 to +32 deg) - and don't do any DDFs or mini-surveys at all. One (more complicated) way to answer this question is to ask Lynne Jones to configure and run OpSim, and then do a MAF analysis. HOWEVER, We can get an approximate answer with a very simple emulator of Lynne Jones that will help make sure that we're asking for reasonable options."
   ]
  },
  {
   "cell_type": "code",
   "execution_count": null,
   "metadata": {},
   "outputs": [],
   "source": [
    "from lynnesim import LynneSim "
   ]
  },
  {
   "cell_type": "code",
   "execution_count": null,
   "metadata": {},
   "outputs": [],
   "source": [
    "Lynne = LynneSim()"
   ]
  },
  {
   "cell_type": "code",
   "execution_count": null,
   "metadata": {},
   "outputs": [],
   "source": [
    "print(len(Lynne.fields))\n",
    "Lynne.fields[0:5]"
   ]
  },
  {
   "cell_type": "code",
   "execution_count": null,
   "metadata": {},
   "outputs": [],
   "source": [
    "# %load -n LynneSim.__init__"
   ]
  },
  {
   "cell_type": "markdown",
   "metadata": {},
   "source": [
    "## Configuring the Observing Strategy\n",
    "\n"
   ]
  },
  {
   "cell_type": "code",
   "execution_count": null,
   "metadata": {},
   "outputs": [],
   "source": [
    "Lynne.define_survey_region('WFD', NvisitsPerField=825, limits={'dec':[-72.25,12.4], 'gb':[15.0,-15.0]})\n",
    "Lynne.define_survey_region('GalacticPlane', limits={'gb':[-15.0,15.0], 'gl':[-180.0,180.0], 'dec':[-90.0,12.4]})"
   ]
  },
  {
   "cell_type": "code",
   "execution_count": null,
   "metadata": {},
   "outputs": [],
   "source": [
    "# %load -n LynneSim.define_survey_region"
   ]
  },
  {
   "cell_type": "markdown",
   "metadata": {},
   "source": [
    "## Emulating an OpSim Run"
   ]
  },
  {
   "cell_type": "code",
   "execution_count": null,
   "metadata": {
    "scrolled": true
   },
   "outputs": [],
   "source": [
    "Lynne.distribute_visits()"
   ]
  },
  {
   "cell_type": "code",
   "execution_count": null,
   "metadata": {},
   "outputs": [],
   "source": [
    "Lynne.regions['WFD'][-5:]"
   ]
  },
  {
   "cell_type": "code",
   "execution_count": null,
   "metadata": {},
   "outputs": [],
   "source": [
    "Lynne.regions['GalacticPlane'][-5:]"
   ]
  },
  {
   "cell_type": "code",
   "execution_count": null,
   "metadata": {},
   "outputs": [],
   "source": [
    "# %load -n LynneSim.distribute_visits"
   ]
  },
  {
   "cell_type": "markdown",
   "metadata": {},
   "source": [
    "## Emulating a MAF Analysis"
   ]
  },
  {
   "cell_type": "code",
   "execution_count": null,
   "metadata": {},
   "outputs": [],
   "source": [
    "Lynne.calculate_metrics()"
   ]
  },
  {
   "cell_type": "code",
   "execution_count": null,
   "metadata": {},
   "outputs": [],
   "source": [
    "# %load -n LynneSim.calculate_metrics"
   ]
  },
  {
   "cell_type": "code",
   "execution_count": null,
   "metadata": {
    "scrolled": true
   },
   "outputs": [],
   "source": [
    "fig = Lynne.plot_sky_map()"
   ]
  },
  {
   "cell_type": "code",
   "execution_count": null,
   "metadata": {},
   "outputs": [],
   "source": [
    "fig = Lynne.fancy_plot()"
   ]
  },
  {
   "cell_type": "code",
   "execution_count": null,
   "metadata": {},
   "outputs": [],
   "source": [
    "fig = Lynne.plot_sky_map(metric='Nvis_z')"
   ]
  },
  {
   "cell_type": "code",
   "execution_count": null,
   "metadata": {},
   "outputs": [],
   "source": [
    "fig = Lynne.plot_sky_map(metric='depth_i')"
   ]
  },
  {
   "cell_type": "code",
   "execution_count": null,
   "metadata": {},
   "outputs": [],
   "source": [
    "# %load -n LynneSim.plot_sky_map"
   ]
  },
  {
   "cell_type": "markdown",
   "metadata": {},
   "source": [
    "## Further Work\n",
    "\n",
    "It's not clear yet how useful the `LynneSim` abstraction will be: the area/depth tradeoff notebooks are better for understanding what is being calculated, because of their sequential nature. But, for carrying out a suite of (more than one or two) cheap experiments, it's going to be better to summon a `LynneSim` worker.\n",
    "\n",
    "So far, the only metrics implemented are the depths by filter - there could be others that could be plausibly emulated. At some point we might want to abstract a metric object to enable easier implementation of additional metrics. Likewise, the survey regions may need a more careful treatment - at the moment overlapping fields are not treated well at all. "
   ]
  }
 ],
 "metadata": {
  "kernelspec": {
   "display_name": "Python 3",
   "language": "python",
   "name": "python3"
  },
  "language_info": {
   "codemirror_mode": {
    "name": "ipython",
    "version": 3
   },
   "file_extension": ".py",
   "mimetype": "text/x-python",
   "name": "python",
   "nbconvert_exporter": "python",
   "pygments_lexer": "ipython3",
   "version": "3.6.7"
  }
 },
 "nbformat": 4,
 "nbformat_minor": 2
}
