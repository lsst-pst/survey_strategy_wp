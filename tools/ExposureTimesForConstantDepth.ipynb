{
 "cells": [
  {
   "cell_type": "markdown",
   "metadata": {},
   "source": [
    "One idea put forward is to vary exposure time in order to keep constant depth. What range of exposure times would be needed?"
   ]
  },
  {
   "cell_type": "code",
   "execution_count": 2,
   "metadata": {},
   "outputs": [],
   "source": [
    "# Check range of delivered m5 values.\n",
    "import lsst.sims.maf.db as db"
   ]
  },
  {
   "cell_type": "code",
   "execution_count": 4,
   "metadata": {},
   "outputs": [],
   "source": [
    "opsdb = db.OpsimDatabase('db/kraken_2026.db')"
   ]
  },
  {
   "cell_type": "code",
   "execution_count": 12,
   "metadata": {},
   "outputs": [
    {
     "name": "stdout",
     "output_type": "stream",
     "text": [
      "u 21.6014854524 24.0837842178 2.4822987654\n",
      "g 22.8128084211 25.4036678373 2.59085941619\n",
      "r 22.4302863843 24.9637526347 2.53346625048\n",
      "i 21.9573319547 24.4080723472 2.45074039248\n",
      "z 20.8779608031 23.7375564311 2.85959562795\n",
      "y 20.0817199477 22.735065822 2.65334587434\n"
     ]
    }
   ],
   "source": [
    "for f in ('u', 'g', 'r', 'i', 'z', 'y'):\n",
    "    simdata = opsdb.fetchMetricData(['fiveSigmaDepth'], sqlconstraint='filter=\"%s\"' % f)\n",
    "    print(f, simdata['fiveSigmaDepth'].min(), simdata['fiveSigmaDepth'].max(), \n",
    "          simdata['fiveSigmaDepth'].max() - simdata['fiveSigmaDepth'].min())"
   ]
  },
  {
   "cell_type": "code",
   "execution_count": 3,
   "metadata": {},
   "outputs": [],
   "source": [
    "# Calculate how exposure time should vary. \n",
    "import lsst.syseng.throughputs as st"
   ]
  },
  {
   "cell_type": "code",
   "execution_count": 6,
   "metadata": {},
   "outputs": [],
   "source": [
    "defaultDirs = st.setDefaultDirs()\n",
    "hardware, system = st.buildHardwareAndSystem(defaultDirs)"
   ]
  },
  {
   "cell_type": "code",
   "execution_count": 17,
   "metadata": {},
   "outputs": [
    {
     "data": {
      "text/html": [
       "<div>\n",
       "<style scoped>\n",
       "    .dataframe tbody tr th:only-of-type {\n",
       "        vertical-align: middle;\n",
       "    }\n",
       "\n",
       "    .dataframe tbody tr th {\n",
       "        vertical-align: top;\n",
       "    }\n",
       "\n",
       "    .dataframe thead th {\n",
       "        text-align: right;\n",
       "    }\n",
       "</style>\n",
       "<table border=\"1\" class=\"dataframe\">\n",
       "  <thead>\n",
       "    <tr style=\"text-align: right;\">\n",
       "      <th></th>\n",
       "      <th>FWHMeff</th>\n",
       "      <th>FWHMgeom</th>\n",
       "      <th>skyMag</th>\n",
       "      <th>skyCounts</th>\n",
       "      <th>Zp_t</th>\n",
       "      <th>Tb</th>\n",
       "      <th>Sb</th>\n",
       "      <th>kAtm</th>\n",
       "      <th>gamma</th>\n",
       "      <th>Cm</th>\n",
       "      <th>dCm_infinity</th>\n",
       "      <th>dCm_double</th>\n",
       "      <th>m5</th>\n",
       "      <th>sourceCounts</th>\n",
       "      <th>m5_fid</th>\n",
       "      <th>m5_min</th>\n",
       "    </tr>\n",
       "  </thead>\n",
       "  <tbody>\n",
       "    <tr>\n",
       "      <th>u</th>\n",
       "      <td>0.92</td>\n",
       "      <td>0.80824</td>\n",
       "      <td>22.989546</td>\n",
       "      <td>70.402589</td>\n",
       "      <td>26.900947</td>\n",
       "      <td>0.032437</td>\n",
       "      <td>0.051867</td>\n",
       "      <td>0.509618</td>\n",
       "      <td>0.037738</td>\n",
       "      <td>23.281862</td>\n",
       "      <td>0.409256</td>\n",
       "      <td>0.246092</td>\n",
       "      <td>23.979911</td>\n",
       "      <td>442.115544</td>\n",
       "      <td>23.9</td>\n",
       "      <td>23.4</td>\n",
       "    </tr>\n",
       "    <tr>\n",
       "      <th>g</th>\n",
       "      <td>0.87</td>\n",
       "      <td>0.76714</td>\n",
       "      <td>22.255978</td>\n",
       "      <td>406.358769</td>\n",
       "      <td>28.385271</td>\n",
       "      <td>0.127284</td>\n",
       "      <td>0.152329</td>\n",
       "      <td>0.195029</td>\n",
       "      <td>0.038644</td>\n",
       "      <td>24.517163</td>\n",
       "      <td>0.099552</td>\n",
       "      <td>0.049917</td>\n",
       "      <td>24.909100</td>\n",
       "      <td>737.207358</td>\n",
       "      <td>25.0</td>\n",
       "      <td>24.6</td>\n",
       "    </tr>\n",
       "    <tr>\n",
       "      <th>r</th>\n",
       "      <td>0.83</td>\n",
       "      <td>0.73426</td>\n",
       "      <td>21.197245</td>\n",
       "      <td>812.576131</td>\n",
       "      <td>28.169626</td>\n",
       "      <td>0.104355</td>\n",
       "      <td>0.114880</td>\n",
       "      <td>0.104326</td>\n",
       "      <td>0.038945</td>\n",
       "      <td>24.507227</td>\n",
       "      <td>0.052338</td>\n",
       "      <td>0.024335</td>\n",
       "      <td>24.420899</td>\n",
       "      <td>947.571405</td>\n",
       "      <td>24.7</td>\n",
       "      <td>24.3</td>\n",
       "    </tr>\n",
       "    <tr>\n",
       "      <th>i</th>\n",
       "      <td>0.80</td>\n",
       "      <td>0.70960</td>\n",
       "      <td>20.476708</td>\n",
       "      <td>1144.015607</td>\n",
       "      <td>27.851170</td>\n",
       "      <td>0.077827</td>\n",
       "      <td>0.083291</td>\n",
       "      <td>0.073665</td>\n",
       "      <td>0.039063</td>\n",
       "      <td>24.379825</td>\n",
       "      <td>0.037756</td>\n",
       "      <td>0.016734</td>\n",
       "      <td>23.973200</td>\n",
       "      <td>1067.356394</td>\n",
       "      <td>24.0</td>\n",
       "      <td>23.6</td>\n",
       "    </tr>\n",
       "    <tr>\n",
       "      <th>z</th>\n",
       "      <td>0.78</td>\n",
       "      <td>0.69316</td>\n",
       "      <td>19.599918</td>\n",
       "      <td>1715.474293</td>\n",
       "      <td>27.440200</td>\n",
       "      <td>0.053302</td>\n",
       "      <td>0.055697</td>\n",
       "      <td>0.047725</td>\n",
       "      <td>0.039205</td>\n",
       "      <td>24.201710</td>\n",
       "      <td>0.025521</td>\n",
       "      <td>0.010600</td>\n",
       "      <td>23.384178</td>\n",
       "      <td>1257.564036</td>\n",
       "      <td>23.3</td>\n",
       "      <td>22.9</td>\n",
       "    </tr>\n",
       "    <tr>\n",
       "      <th>y</th>\n",
       "      <td>0.76</td>\n",
       "      <td>0.67672</td>\n",
       "      <td>18.611865</td>\n",
       "      <td>2283.488487</td>\n",
       "      <td>26.647213</td>\n",
       "      <td>0.025677</td>\n",
       "      <td>0.029842</td>\n",
       "      <td>0.163195</td>\n",
       "      <td>0.039288</td>\n",
       "      <td>23.754929</td>\n",
       "      <td>0.019306</td>\n",
       "      <td>0.007553</td>\n",
       "      <td>22.471573</td>\n",
       "      <td>1404.033432</td>\n",
       "      <td>22.1</td>\n",
       "      <td>21.7</td>\n",
       "    </tr>\n",
       "  </tbody>\n",
       "</table>\n",
       "</div>"
      ],
      "text/plain": [
       "   FWHMeff  FWHMgeom     skyMag    skyCounts       Zp_t        Tb        Sb  \\\n",
       "u     0.92   0.80824  22.989546    70.402589  26.900947  0.032437  0.051867   \n",
       "g     0.87   0.76714  22.255978   406.358769  28.385271  0.127284  0.152329   \n",
       "r     0.83   0.73426  21.197245   812.576131  28.169626  0.104355  0.114880   \n",
       "i     0.80   0.70960  20.476708  1144.015607  27.851170  0.077827  0.083291   \n",
       "z     0.78   0.69316  19.599918  1715.474293  27.440200  0.053302  0.055697   \n",
       "y     0.76   0.67672  18.611865  2283.488487  26.647213  0.025677  0.029842   \n",
       "\n",
       "       kAtm     gamma         Cm  dCm_infinity  dCm_double         m5  \\\n",
       "u  0.509618  0.037738  23.281862      0.409256    0.246092  23.979911   \n",
       "g  0.195029  0.038644  24.517163      0.099552    0.049917  24.909100   \n",
       "r  0.104326  0.038945  24.507227      0.052338    0.024335  24.420899   \n",
       "i  0.073665  0.039063  24.379825      0.037756    0.016734  23.973200   \n",
       "z  0.047725  0.039205  24.201710      0.025521    0.010600  23.384178   \n",
       "y  0.163195  0.039288  23.754929      0.019306    0.007553  22.471573   \n",
       "\n",
       "   sourceCounts  m5_fid  m5_min  \n",
       "u    442.115544    23.9    23.4  \n",
       "g    737.207358    25.0    24.6  \n",
       "r    947.571405    24.7    24.3  \n",
       "i   1067.356394    24.0    23.6  \n",
       "z   1257.564036    23.3    22.9  \n",
       "y   1404.033432    22.1    21.7  "
      ]
     },
     "execution_count": 17,
     "metadata": {},
     "output_type": "execute_result"
    }
   ],
   "source": [
    "# Calculate \n",
    "st.makeM5(hardware, system, darksky=None, exptime=30, nexp=1, X=1.0)"
   ]
  },
  {
   "cell_type": "code",
   "execution_count": 18,
   "metadata": {},
   "outputs": [
    {
     "data": {
      "text/plain": [
       "u    23.979911\n",
       "g    24.909100\n",
       "r    24.420899\n",
       "i    23.973200\n",
       "z    23.384178\n",
       "y    22.471573\n",
       "Name: m5, dtype: float64"
      ]
     },
     "execution_count": 18,
     "metadata": {},
     "output_type": "execute_result"
    }
   ],
   "source": [
    "st.makeM5(hardware, system, darksky=None, exptime=30, nexp=1, X=1.0).m5"
   ]
  },
  {
   "cell_type": "code",
   "execution_count": 34,
   "metadata": {},
   "outputs": [
    {
     "data": {
      "text/plain": [
       "u    24.748284\n",
       "g    25.671039\n",
       "r    25.180731\n",
       "i    24.732208\n",
       "z    24.142203\n",
       "y    23.229024\n",
       "Name: m5, dtype: float64"
      ]
     },
     "execution_count": 34,
     "metadata": {},
     "output_type": "execute_result"
    }
   ],
   "source": [
    "st.makeM5(hardware, system, darksky=None, exptime=30, nexp=4, X=1.0).m5"
   ]
  },
  {
   "cell_type": "code",
   "execution_count": 40,
   "metadata": {},
   "outputs": [
    {
     "data": {
      "text/plain": [
       "u    1.076027\n",
       "g    1.068022\n",
       "r    1.065401\n",
       "i    1.064376\n",
       "z    1.063153\n",
       "y    1.062439\n",
       "Name: m5, dtype: float64"
      ]
     },
     "execution_count": 40,
     "metadata": {},
     "output_type": "execute_result"
    }
   ],
   "source": [
    "st.makeM5(hardware, system, darksky=None, exptime=30, nexp=7, X=1.0).m5 - \\\n",
    "st.makeM5(hardware, system, darksky=None, exptime=30, nexp=1, X=1.0).m5"
   ]
  },
  {
   "cell_type": "markdown",
   "metadata": {},
   "source": [
    "To account for a magnitude of variation, you would need 7x30s exposures (vs. just 1x30s exposure)."
   ]
  },
  {
   "cell_type": "code",
   "execution_count": 44,
   "metadata": {},
   "outputs": [
    {
     "data": {
      "text/plain": [
       "u    2.627691\n",
       "g    2.615996\n",
       "r    2.612166\n",
       "i    2.610669\n",
       "z    2.608882\n",
       "y    2.607840\n",
       "Name: m5, dtype: float64"
      ]
     },
     "execution_count": 44,
     "metadata": {},
     "output_type": "execute_result"
    }
   ],
   "source": [
    "st.makeM5(hardware, system, darksky=None, exptime=30, nexp=120, X=1.0).m5 - \\\n",
    "st.makeM5(hardware, system, darksky=None, exptime=30, nexp=1, X=1.0).m5"
   ]
  },
  {
   "cell_type": "markdown",
   "metadata": {},
   "source": [
    "To account for just slightly over 2.6 magnitudes of variation, you would need a whopping 120x30s exposures. "
   ]
  },
  {
   "cell_type": "code",
   "execution_count": null,
   "metadata": {},
   "outputs": [],
   "source": []
  }
 ],
 "metadata": {
  "kernelspec": {
   "display_name": "Python 3",
   "language": "python",
   "name": "python3"
  },
  "language_info": {
   "codemirror_mode": {
    "name": "ipython",
    "version": 3
   },
   "file_extension": ".py",
   "mimetype": "text/x-python",
   "name": "python",
   "nbconvert_exporter": "python",
   "pygments_lexer": "ipython3",
   "version": "3.6.2"
  }
 },
 "nbformat": 4,
 "nbformat_minor": 2
}
